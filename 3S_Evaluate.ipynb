{
 "cells": [
  {
   "cell_type": "code",
   "execution_count": 1,
   "id": "e7a31798-ae99-4bed-beb2-f591140b76b2",
   "metadata": {},
   "outputs": [],
   "source": [
    "# Import necessary libraries\n",
    "import os\n",
    "import sys\n",
    "import joblib\n",
    "import numpy as np\n",
    "import pandas as pd\n",
    "from joblib import dump\n",
    "import subprocess as sp\n",
    "import dask.array as da\n",
    "from pprint import pprint\n",
    "import matplotlib.pyplot as plt\n",
    "from odc.io.cgroups import get_cpu_quota\n",
    "from sklearn.metrics import roc_curve, auc, balanced_accuracy_score, f1_score\n",
    "from sklearn.model_selection import GridSearchCV, ShuffleSplit, KFold\n",
    "from sklearn.ensemble import RandomForestClassifier\n",
    "from sklearn.multiclass import OneVsRestClassifier\n",
    "from sklearn.preprocessing import label_binarize\n",
    "from sklearn.ensemble import GradientBoostingClassifier"
   ]
  },
  {
   "cell_type": "code",
   "execution_count": 2,
   "id": "9e075be4-cd97-4980-b36b-6b1c2f358f54",
   "metadata": {},
   "outputs": [],
   "source": [
    "training_data = \"S_training_data(1).txt\"\n",
    "\n",
    "# Define all candidate classifiers\n",
    "models = {\n",
    "    \"RandomForest\": RandomForestClassifier,\n",
    "    \"GradientBoosting\": GradientBoostingClassifier\n",
    "}\n",
    "\n",
    "# Define the metric\n",
    "metric = 'balanced_accuracy'"
   ]
  },
  {
   "cell_type": "code",
   "execution_count": 3,
   "id": "e4229113-be14-49e4-9e24-b5658cf529e3",
   "metadata": {},
   "outputs": [],
   "source": [
    "# Set cross-validation splits\n",
    "inner_cv_splits = 5\n",
    "outer_cv_splits = 5\n",
    "test_size = 0.20"
   ]
  },
  {
   "cell_type": "code",
   "execution_count": 4,
   "id": "1adfc45b-41da-41db-ada3-aa83e9ce83ef",
   "metadata": {},
   "outputs": [
    {
     "name": "stdout",
     "output_type": "stream",
     "text": [
      "ncpus = 4\n"
     ]
    }
   ],
   "source": [
    "# Get the number of CPUs available\n",
    "ncpus = round(get_cpu_quota())\n",
    "print('ncpus = ' + str(ncpus))"
   ]
  },
  {
   "cell_type": "code",
   "execution_count": 5,
   "id": "73af725e-3f78-4137-b650-b901f5933f9c",
   "metadata": {},
   "outputs": [],
   "source": [
    "# load the data\n",
    "model_input = np.loadtxt(training_data)\n",
    "\n",
    "# load the column_names\n",
    "with open(training_data, 'r') as file:\n",
    "    header = file.readline()\n",
    "    \n",
    "column_names = header.split()[1:]\n",
    "\n",
    "# Extract relevant indices from training data\n",
    "model_col_indices = [column_names.index(var_name) for var_name in column_names[1:]]\n",
    "\n",
    "#convert variable names into sci-kit learn nomenclature\n",
    "X = model_input[:, model_col_indices]\n",
    "y = model_input[:, 0]"
   ]
  },
  {
   "cell_type": "code",
   "execution_count": 6,
   "id": "ac1e2c0c-be24-4e02-8f23-8b2e9ee5ffc5",
   "metadata": {},
   "outputs": [],
   "source": [
    "# Parameter grid for GridSearchCV\n",
    "param_grids = {\n",
    "    \"RandomForest\": {\n",
    "        'class_weight': ['balanced'],\n",
    "        'n_estimators': [250],\n",
    "        'criterion': ['gini', 'entropy'],\n",
    "        'max_depth': [10],\n",
    "        'max_features': ['sqrt', 'log2']\n",
    "    },\n",
    "    \"GradientBoosting\": {\n",
    "        'n_estimators': [100, 250],\n",
    "        'learning_rate': [0.05, 0.1],\n",
    "        'max_depth': [3, 5]\n",
    "    }\n",
    "}\n"
   ]
  },
  {
   "cell_type": "code",
   "execution_count": 7,
   "id": "e8e11790-ba7d-457d-a394-00a50a15c072",
   "metadata": {
    "jupyter": {
     "source_hidden": true
    }
   },
   "outputs": [
    {
     "name": "stdout",
     "output_type": "stream",
     "text": [
      "\n",
      "===== Evaluating RandomForest =====\n",
      "Working on 5/5 outer cv split\n",
      "RandomForest — Mean ROC AUC: 0.9657\n",
      "RandomForest — Mean Accuracy: 0.8325\n",
      "RandomForest — Mean F1 Score: 0.8329\n",
      "Fitting 5 folds for each of 4 candidates, totalling 20 fits\n",
      "Saved best RandomForest model to S_model_randomforest.joblib\n",
      "\n",
      "===== Evaluating GradientBoosting =====\n",
      "Working on 5/5 outer cv split\n",
      "GradientBoosting — Mean ROC AUC: 0.9641\n",
      "GradientBoosting — Mean Accuracy: 0.8270\n",
      "GradientBoosting — Mean F1 Score: 0.8277\n",
      "Fitting 5 folds for each of 8 candidates, totalling 40 fits\n",
      "Saved best GradientBoosting model to S_model_gradientboosting.joblib\n"
     ]
    }
   ],
   "source": [
    "# Define the outer cross-validation\n",
    "outer_cv = KFold(n_splits=outer_cv_splits, shuffle=True, random_state=0)\n",
    "\n",
    "# lists to store results of CV testing\n",
    "acc = []\n",
    "f1 = []\n",
    "roc_auc = []\n",
    "\n",
    "results_summary = {}\n",
    "\n",
    "for model_name, Classifier in models.items():\n",
    "    print(f\"\\n===== Evaluating {model_name} =====\")\n",
    "    param_grid = param_grids[model_name]\n",
    "    \n",
    "    acc, f1, roc_auc = [], [], []\n",
    "    i = 1\n",
    "    \n",
    "    for train_index, test_index in outer_cv.split(X, y):\n",
    "        print(f\"Working on {i}/{outer_cv_splits} outer cv split\", end='\\r')\n",
    "        model = Classifier()\n",
    "        \n",
    "        X_tr, X_tt = X[train_index, :], X[test_index, :]\n",
    "        y_tr, y_tt = y[train_index], y[test_index]\n",
    "        \n",
    "        inner_cv = KFold(n_splits=inner_cv_splits, shuffle=True, random_state=0)\n",
    "        \n",
    "        clf = GridSearchCV(\n",
    "            estimator=model,\n",
    "            param_grid=param_grid,\n",
    "            scoring=metric,\n",
    "            n_jobs=ncpus,\n",
    "            refit=True,\n",
    "            cv=inner_cv,\n",
    "        )\n",
    "        clf.fit(X_tr, y_tr)\n",
    "        \n",
    "        best_model = clf.best_estimator_\n",
    "        pred = best_model.predict(X_tt)\n",
    "        probs = getattr(best_model, \"predict_proba\", lambda x: np.zeros((len(x), len(np.unique(y)))))(X_tt)\n",
    "        \n",
    "        y_tt_bin = label_binarize(y_tt, classes=np.unique(y))\n",
    "        for j in range(y_tt_bin.shape[1]):\n",
    "            fpr, tpr, _ = roc_curve(y_tt_bin[:, j], probs[:, j]) if probs.ndim > 1 else ([], [], [])\n",
    "            if len(fpr) > 0:\n",
    "                roc_auc.append(auc(fpr, tpr))\n",
    "        \n",
    "        acc.append(balanced_accuracy_score(y_tt, pred))\n",
    "        f1.append(f1_score(y_tt, pred, average='weighted'))\n",
    "        i += 1\n",
    "\n",
    "    results_summary[model_name] = {\n",
    "        \"roc_auc_mean\": np.mean(roc_auc),\n",
    "        \"acc_mean\": np.mean(acc),\n",
    "        \"f1_mean\": np.mean(f1)\n",
    "    }\n",
    "\n",
    "    print(f\"\\n{model_name} — Mean ROC AUC: {np.mean(roc_auc):.4f}\")\n",
    "    print(f\"{model_name} — Mean Accuracy: {np.mean(acc):.4f}\")\n",
    "    print(f\"{model_name} — Mean F1 Score: {np.mean(f1):.4f}\")\n",
    "\n",
    "    # Final training on full dataset\n",
    "    rs = ShuffleSplit(n_splits=outer_cv_splits, test_size=test_size, random_state=0)\n",
    "    clf = GridSearchCV(Classifier(), param_grid, scoring=metric, verbose=1, cv=rs.split(X, y), n_jobs=ncpus)\n",
    "    clf.fit(X, y)\n",
    "    \n",
    "    best_params = clf.best_params_\n",
    "    new_model = Classifier(**best_params)\n",
    "    new_model.fit(X, y)\n",
    "    \n",
    "    model_filename = f\"S_model_{model_name.lower()}.joblib\"\n",
    "    dump(new_model, model_filename)\n",
    "    print(f\"Saved best {model_name} model to {model_filename}\")\n"
   ]
  },
  {
   "cell_type": "code",
   "execution_count": 8,
   "id": "c5d0d191-5f25-48fe-8819-45933023dc91",
   "metadata": {
    "jupyter": {
     "source_hidden": true
    }
   },
   "outputs": [
    {
     "data": {
      "image/png": "[encoded data removed]",
      "text/plain": [
       "<Figure size 800x500 with 1 Axes>"
      ]
     },
     "metadata": {},
     "output_type": "display_data"
    }
   ],
   "source": [
    "# Summarize and compare results\n",
    "df_results = pd.DataFrame(results_summary).T\n",
    "df_results.plot(kind='bar', figsize=(8,5))\n",
    "plt.title(\"Model Benchmarking on DEA Training Data\")\n",
    "plt.ylabel(\"Mean Score\")\n",
    "plt.show()"
   ]
  },
  {
   "cell_type": "code",
   "execution_count": null,
   "id": "ed97d883-56f7-42d1-a360-34b106c4334e",
   "metadata": {},
   "outputs": [],
   "source": []
  },
  {
   "cell_type": "code",
   "execution_count": null,
   "id": "fa1a44c4-fd1c-44df-a89d-880bf41e573e",
   "metadata": {},
   "outputs": [],
   "source": []
  },
  {
   "cell_type": "code",
   "execution_count": null,
   "id": "ef9577df-17bd-4f60-8b38-116a87931bea",
   "metadata": {},
   "outputs": [],
   "source": []
  },
  {
   "cell_type": "code",
   "execution_count": null,
   "id": "7c5203de-c9ba-45cf-b4ea-f4efdcbf0e63",
   "metadata": {},
   "outputs": [],
   "source": []
  },
  {
   "cell_type": "code",
   "execution_count": null,
   "id": "1f827490-65b9-4f59-9f97-8ec722ef0f00",
   "metadata": {},
   "outputs": [],
   "source": []
  }
 ],
 "metadata": {
  "kernelspec": {
   "display_name": "Python 3 (ipykernel)",
   "language": "python",
   "name": "python3"
  },
  "language_info": {
   "codemirror_mode": {
    "name": "ipython",
    "version": 3
   },
   "file_extension": ".py",
   "mimetype": "text/x-python",
   "name": "python",
   "nbconvert_exporter": "python",
   "pygments_lexer": "ipython3",
   "version": "3.12.3"
  }
 },
 "nbformat": 4,
 "nbformat_minor": 5
}
